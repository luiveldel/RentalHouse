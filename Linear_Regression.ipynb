{
 "cells": [
  {
   "attachments": {},
   "cell_type": "markdown",
   "metadata": {},
   "source": [
    "### Importing necessary libraries"
   ]
  },
  {
   "cell_type": "code",
   "execution_count": 1,
   "metadata": {},
   "outputs": [],
   "source": [
    "import pandas as pd\n",
    "import numpy as np\n",
    "import seaborn as sns\n",
    "import matplotlib.pylab as plt\n",
    "import os\n",
    "\n",
    "# ML tools\n",
    "from sklearn.model_selection import train_test_split, cross_val_score, GridSearchCV\n",
    "from sklearn.pipeline import make_pipeline\n",
    "from sklearn.compose import make_column_transformer, make_column_selector\n",
    "from sklearn.impute import SimpleImputer\n",
    "from sklearn.preprocessing import StandardScaler, OneHotEncoder\n",
    "from sklearn.linear_model import LinearRegression\n",
    "from sklearn.metrics import mean_squared_error\n",
    "from sklearn.tree import DecisionTreeRegressor\n",
    "from sklearn.ensemble import RandomForestRegressor, GradientBoostingRegressor\n",
    "\n",
    "# Configuring plotting\n",
    "from itertools import cycle\n",
    "\n",
    "plt.style.use('fast')\n",
    "color_pal = plt.rcParams['axes.prop_cycle'].by_key()['color']\n",
    "color_cycle = cycle(plt.rcParams['axes.prop_cycle'].by_key()['color'])"
   ]
  },
  {
   "cell_type": "markdown",
   "metadata": {},
   "source": [
    "### Reading data using pandas"
   ]
  },
  {
   "cell_type": "code",
   "execution_count": 2,
   "metadata": {},
   "outputs": [
    {
     "data": {
      "text/html": [
       "<div>\n",
       "<style scoped>\n",
       "    .dataframe tbody tr th:only-of-type {\n",
       "        vertical-align: middle;\n",
       "    }\n",
       "\n",
       "    .dataframe tbody tr th {\n",
       "        vertical-align: top;\n",
       "    }\n",
       "\n",
       "    .dataframe thead th {\n",
       "        text-align: right;\n",
       "    }\n",
       "</style>\n",
       "<table border=\"1\" class=\"dataframe\">\n",
       "  <thead>\n",
       "    <tr style=\"text-align: right;\">\n",
       "      <th></th>\n",
       "      <th>id</th>\n",
       "      <th>latitude</th>\n",
       "      <th>longitude</th>\n",
       "      <th>property_type</th>\n",
       "      <th>room_type</th>\n",
       "      <th>bathrooms</th>\n",
       "      <th>bedrooms</th>\n",
       "      <th>minimum_nights</th>\n",
       "      <th>price</th>\n",
       "    </tr>\n",
       "  </thead>\n",
       "  <tbody>\n",
       "    <tr>\n",
       "      <th>0</th>\n",
       "      <td>958</td>\n",
       "      <td>37.76931</td>\n",
       "      <td>-122.43386</td>\n",
       "      <td>Apartment</td>\n",
       "      <td>Entire home/apt</td>\n",
       "      <td>1.0</td>\n",
       "      <td>1.0</td>\n",
       "      <td>1</td>\n",
       "      <td>$170.00</td>\n",
       "    </tr>\n",
       "    <tr>\n",
       "      <th>1</th>\n",
       "      <td>3850</td>\n",
       "      <td>37.75402</td>\n",
       "      <td>-122.45805</td>\n",
       "      <td>House</td>\n",
       "      <td>Private room</td>\n",
       "      <td>1.0</td>\n",
       "      <td>1.0</td>\n",
       "      <td>1</td>\n",
       "      <td>$99.00</td>\n",
       "    </tr>\n",
       "    <tr>\n",
       "      <th>2</th>\n",
       "      <td>5858</td>\n",
       "      <td>37.74511</td>\n",
       "      <td>-122.42102</td>\n",
       "      <td>Apartment</td>\n",
       "      <td>Entire home/apt</td>\n",
       "      <td>1.0</td>\n",
       "      <td>2.0</td>\n",
       "      <td>30</td>\n",
       "      <td>$235.00</td>\n",
       "    </tr>\n",
       "    <tr>\n",
       "      <th>3</th>\n",
       "      <td>7918</td>\n",
       "      <td>37.76669</td>\n",
       "      <td>-122.45250</td>\n",
       "      <td>Apartment</td>\n",
       "      <td>Private room</td>\n",
       "      <td>4.0</td>\n",
       "      <td>1.0</td>\n",
       "      <td>32</td>\n",
       "      <td>$65.00</td>\n",
       "    </tr>\n",
       "    <tr>\n",
       "      <th>4</th>\n",
       "      <td>8142</td>\n",
       "      <td>37.76487</td>\n",
       "      <td>-122.45183</td>\n",
       "      <td>Apartment</td>\n",
       "      <td>Private room</td>\n",
       "      <td>4.0</td>\n",
       "      <td>1.0</td>\n",
       "      <td>32</td>\n",
       "      <td>$65.00</td>\n",
       "    </tr>\n",
       "  </tbody>\n",
       "</table>\n",
       "</div>"
      ],
      "text/plain": [
       "     id  latitude  longitude property_type        room_type  bathrooms   \n",
       "0   958  37.76931 -122.43386     Apartment  Entire home/apt        1.0  \\\n",
       "1  3850  37.75402 -122.45805         House     Private room        1.0   \n",
       "2  5858  37.74511 -122.42102     Apartment  Entire home/apt        1.0   \n",
       "3  7918  37.76669 -122.45250     Apartment     Private room        4.0   \n",
       "4  8142  37.76487 -122.45183     Apartment     Private room        4.0   \n",
       "\n",
       "   bedrooms  minimum_nights     price  \n",
       "0       1.0               1  $170.00   \n",
       "1       1.0               1   $99.00   \n",
       "2       2.0              30  $235.00   \n",
       "3       1.0              32   $65.00   \n",
       "4       1.0              32   $65.00   "
      ]
     },
     "execution_count": 2,
     "metadata": {},
     "output_type": "execute_result"
    }
   ],
   "source": [
    "pwd = os.getcwd()\n",
    "filepath = os.path.join(pwd,\"rentals.csv\")\n",
    "house_df = pd.read_csv(filepath)\n",
    "house_df.head()"
   ]
  },
  {
   "attachments": {},
   "cell_type": "markdown",
   "metadata": {},
   "source": [
    "### EDA"
   ]
  },
  {
   "cell_type": "code",
   "execution_count": 3,
   "metadata": {},
   "outputs": [
    {
     "name": "stdout",
     "output_type": "stream",
     "text": [
      "<class 'pandas.core.frame.DataFrame'>\n",
      "RangeIndex: 8111 entries, 0 to 8110\n",
      "Data columns (total 9 columns):\n",
      " #   Column          Non-Null Count  Dtype  \n",
      "---  ------          --------------  -----  \n",
      " 0   id              8111 non-null   int64  \n",
      " 1   latitude        8111 non-null   float64\n",
      " 2   longitude       8111 non-null   float64\n",
      " 3   property_type   8111 non-null   object \n",
      " 4   room_type       8111 non-null   object \n",
      " 5   bathrooms       8099 non-null   float64\n",
      " 6   bedrooms        8107 non-null   float64\n",
      " 7   minimum_nights  8111 non-null   int64  \n",
      " 8   price           8111 non-null   object \n",
      "dtypes: float64(4), int64(2), object(3)\n",
      "memory usage: 570.4+ KB\n"
     ]
    }
   ],
   "source": [
    "house_df.info()"
   ]
  },
  {
   "cell_type": "code",
   "execution_count": 4,
   "metadata": {},
   "outputs": [
    {
     "name": "stdout",
     "output_type": "stream",
     "text": [
      "id                 0\n",
      "latitude           0\n",
      "longitude          0\n",
      "property_type      0\n",
      "room_type          0\n",
      "bathrooms         12\n",
      "bedrooms           4\n",
      "minimum_nights     0\n",
      "price              0\n",
      "dtype: int64\n",
      "\n",
      "\n",
      "Shape of the df: (8111, 9)\n"
     ]
    }
   ],
   "source": [
    "# Missing values\n",
    "print(house_df.isnull().sum())\n",
    "\n",
    "# Shape\n",
    "print('\\n')\n",
    "print(f'Shape of the df: {house_df.shape}')"
   ]
  },
  {
   "cell_type": "code",
   "execution_count": 5,
   "metadata": {},
   "outputs": [
    {
     "data": {
      "text/html": [
       "<div>\n",
       "<style scoped>\n",
       "    .dataframe tbody tr th:only-of-type {\n",
       "        vertical-align: middle;\n",
       "    }\n",
       "\n",
       "    .dataframe tbody tr th {\n",
       "        vertical-align: top;\n",
       "    }\n",
       "\n",
       "    .dataframe thead th {\n",
       "        text-align: right;\n",
       "    }\n",
       "</style>\n",
       "<table border=\"1\" class=\"dataframe\">\n",
       "  <thead>\n",
       "    <tr style=\"text-align: right;\">\n",
       "      <th></th>\n",
       "      <th>id</th>\n",
       "      <th>latitude</th>\n",
       "      <th>longitude</th>\n",
       "      <th>bathrooms</th>\n",
       "      <th>bedrooms</th>\n",
       "      <th>minimum_nights</th>\n",
       "    </tr>\n",
       "  </thead>\n",
       "  <tbody>\n",
       "    <tr>\n",
       "      <th>count</th>\n",
       "      <td>8.111000e+03</td>\n",
       "      <td>8111.000000</td>\n",
       "      <td>8111.000000</td>\n",
       "      <td>8099.000000</td>\n",
       "      <td>8107.000000</td>\n",
       "      <td>8.111000e+03</td>\n",
       "    </tr>\n",
       "    <tr>\n",
       "      <th>mean</th>\n",
       "      <td>2.024561e+07</td>\n",
       "      <td>37.766054</td>\n",
       "      <td>-122.430107</td>\n",
       "      <td>1.395975</td>\n",
       "      <td>1.345874</td>\n",
       "      <td>1.234526e+04</td>\n",
       "    </tr>\n",
       "    <tr>\n",
       "      <th>std</th>\n",
       "      <td>1.228565e+07</td>\n",
       "      <td>0.022937</td>\n",
       "      <td>0.026967</td>\n",
       "      <td>0.923213</td>\n",
       "      <td>0.925298</td>\n",
       "      <td>1.110357e+06</td>\n",
       "    </tr>\n",
       "    <tr>\n",
       "      <th>min</th>\n",
       "      <td>9.580000e+02</td>\n",
       "      <td>37.704630</td>\n",
       "      <td>-122.513060</td>\n",
       "      <td>0.000000</td>\n",
       "      <td>0.000000</td>\n",
       "      <td>1.000000e+00</td>\n",
       "    </tr>\n",
       "    <tr>\n",
       "      <th>25%</th>\n",
       "      <td>8.905668e+06</td>\n",
       "      <td>37.751450</td>\n",
       "      <td>-122.442830</td>\n",
       "      <td>1.000000</td>\n",
       "      <td>1.000000</td>\n",
       "      <td>2.000000e+00</td>\n",
       "    </tr>\n",
       "    <tr>\n",
       "      <th>50%</th>\n",
       "      <td>2.161057e+07</td>\n",
       "      <td>37.769150</td>\n",
       "      <td>-122.424650</td>\n",
       "      <td>1.000000</td>\n",
       "      <td>1.000000</td>\n",
       "      <td>4.000000e+00</td>\n",
       "    </tr>\n",
       "    <tr>\n",
       "      <th>75%</th>\n",
       "      <td>3.120025e+07</td>\n",
       "      <td>37.785670</td>\n",
       "      <td>-122.410615</td>\n",
       "      <td>1.500000</td>\n",
       "      <td>2.000000</td>\n",
       "      <td>3.000000e+01</td>\n",
       "    </tr>\n",
       "    <tr>\n",
       "      <th>max</th>\n",
       "      <td>3.935418e+07</td>\n",
       "      <td>37.828790</td>\n",
       "      <td>-122.368570</td>\n",
       "      <td>14.000000</td>\n",
       "      <td>14.000000</td>\n",
       "      <td>1.000000e+08</td>\n",
       "    </tr>\n",
       "  </tbody>\n",
       "</table>\n",
       "</div>"
      ],
      "text/plain": [
       "                 id     latitude    longitude    bathrooms     bedrooms   \n",
       "count  8.111000e+03  8111.000000  8111.000000  8099.000000  8107.000000  \\\n",
       "mean   2.024561e+07    37.766054  -122.430107     1.395975     1.345874   \n",
       "std    1.228565e+07     0.022937     0.026967     0.923213     0.925298   \n",
       "min    9.580000e+02    37.704630  -122.513060     0.000000     0.000000   \n",
       "25%    8.905668e+06    37.751450  -122.442830     1.000000     1.000000   \n",
       "50%    2.161057e+07    37.769150  -122.424650     1.000000     1.000000   \n",
       "75%    3.120025e+07    37.785670  -122.410615     1.500000     2.000000   \n",
       "max    3.935418e+07    37.828790  -122.368570    14.000000    14.000000   \n",
       "\n",
       "       minimum_nights  \n",
       "count    8.111000e+03  \n",
       "mean     1.234526e+04  \n",
       "std      1.110357e+06  \n",
       "min      1.000000e+00  \n",
       "25%      2.000000e+00  \n",
       "50%      4.000000e+00  \n",
       "75%      3.000000e+01  \n",
       "max      1.000000e+08  "
      ]
     },
     "execution_count": 5,
     "metadata": {},
     "output_type": "execute_result"
    }
   ],
   "source": [
    "# Detecting outliers\n",
    "house_df.describe()"
   ]
  },
  {
   "attachments": {},
   "cell_type": "markdown",
   "metadata": {},
   "source": [
    "It seems there're outliers in 'minimum_nights' and 'new_price' due to high standard deviation.\n",
    "- 'minimum_nights' shouldn't be more than 1 year (365 days)"
   ]
  },
  {
   "cell_type": "code",
   "execution_count": 6,
   "metadata": {},
   "outputs": [
    {
     "data": {
      "image/png": "[encoded data removed]",
      "text/plain": [
       "<Figure size 1000x500 with 1 Axes>"
      ]
     },
     "metadata": {},
     "output_type": "display_data"
    }
   ],
   "source": [
    "ax = house_df['property_type'].value_counts(ascending=True) \\\n",
    "    .plot(figsize=(10,5),kind='barh',\n",
    "         title='Number of Properties',\n",
    "         edgecolor='black')\n",
    "ax.set_xlabel('Number of Properties')\n",
    "ax.set_ylabel('Properties Types')\n",
    "plt.show()"
   ]
  },
  {
   "attachments": {},
   "cell_type": "markdown",
   "metadata": {},
   "source": [
    "We can encompass these properties within 'Hostel':  'Bed and breakfast', 'Aparthotel', 'Guesthouse' "
   ]
  },
  {
   "attachments": {},
   "cell_type": "markdown",
   "metadata": {},
   "source": [
    "### Cleaning Data and Processing Data"
   ]
  },
  {
   "cell_type": "markdown",
   "metadata": {},
   "source": [
    "* features = latitude, longitude, propoerty_type, room_type, bathrooms, bedrooms, minimum_nights\n",
    "* target = price"
   ]
  },
  {
   "cell_type": "code",
   "execution_count": 7,
   "metadata": {},
   "outputs": [],
   "source": [
    "def preprocessing_house(house_df):\n",
    "    '''This function clean the df'''\n",
    "    # Correct '$' sign and make price column readable\n",
    "    house_df['price'] = house_df['price'].str[1:-4].map(lambda x: x.replace(',', '').replace('.', '')).astype('int')\n",
    "    \n",
    "    # Drop unnecessary columns for ML\n",
    "    house_df.drop('id', axis = 1, inplace = True)\n",
    "    \n",
    "    # We are going to guess there are 0 rooms/bathrooms when there is a missing value\n",
    "    house_df.fillna(0, inplace= True)\n",
    "    \n",
    "    # Removing outliers\n",
    "    house_df.drop(house_df[house_df.minimum_nights > 365].index, inplace = True)\n",
    "    house_df.drop(house_df[house_df.price > 3000].index, inplace = True)\n",
    "    \n",
    "    # Removing unnusual properties\n",
    "    house_df[\"property_type\"].replace(\n",
    "        to_replace=['Castle','Cabin','Tiny house','Earth house','In-law','Camper/RV','Dome house','Hut'],\n",
    "        value='Other', inplace = True)        \n",
    "    \n",
    "    # Same with hostels\n",
    "    house_df[\"property_type\"].replace(\n",
    "        to_replace=['Bed and breakfast', 'Aparthotel', 'Guesthouse'],\n",
    "        value='Hostel', inplace = True)   \n",
    "    return house_df\n",
    "\n",
    "df = preprocessing_house(house_df)"
   ]
  },
  {
   "cell_type": "code",
   "execution_count": 8,
   "metadata": {},
   "outputs": [],
   "source": [
    "def remove_outliers(df):\n",
    "    # Customers to rent out their properties for short stays.\n",
    "    # Removing outliers\n",
    "    cols = ['minimum_nights','price'] # The columns you want to search for outliers in\n",
    "\n",
    "    # Calculate quantiles and IQR\n",
    "    Q1 = house_df[cols].quantile(0.25) # Same as np.percentile but maps (0,1) and not (0,100)\n",
    "    Q3 = house_df[cols].quantile(0.75)\n",
    "    IQR = Q3 - Q1\n",
    "\n",
    "    # Return a boolean array of the rows with (any) non-outlier column values\n",
    "    condition = ~((df[cols] < (Q1 - 1.5 * IQR)) | (df[cols] > (Q3 + 1.5 * IQR))).any(axis=1)\n",
    "\n",
    "    # Filter our dataframe based on condition\n",
    "    df = df[condition]\n",
    "    \n",
    "    return df\n",
    "\n",
    "df_no_outliers = remove_outliers(df)"
   ]
  },
  {
   "cell_type": "code",
   "execution_count": 9,
   "metadata": {},
   "outputs": [
    {
     "name": "stdout",
     "output_type": "stream",
     "text": [
      "194.07825517765272\n"
     ]
    }
   ],
   "source": [
    "feature_cols = ['latitude', 'longitude','bathrooms', 'bedrooms', 'minimum_nights']\n",
    "\n",
    "X = house_df[feature_cols]\n",
    "y = house_df.price\n",
    "\n",
    "X_train, X_test, y_train, y_test = train_test_split(X, y, random_state = 1)\n",
    "\n",
    "linreg = LinearRegression()\n",
    "\n",
    "linreg.fit(X_train, y_train)\n",
    "\n",
    "y_pred = linreg.predict(X_test)\n",
    "\n",
    "print (np.sqrt(mean_squared_error(y_test, y_pred)))"
   ]
  },
  {
   "cell_type": "markdown",
   "metadata": {},
   "source": [
    "### Prepare data for ML"
   ]
  },
  {
   "attachments": {},
   "cell_type": "markdown",
   "metadata": {},
   "source": [
    "To make this funny, let's create 2 models:\n",
    "* Baseline model: Cleaned and with outliers\n",
    "* Model 1: Cleaned and without outliers"
   ]
  },
  {
   "cell_type": "code",
   "execution_count": 10,
   "metadata": {},
   "outputs": [],
   "source": [
    "def get_X_y(dataframe):\n",
    "    '''This function provides our X and y for ML'''\n",
    "    X = dataframe.drop(['price'], axis=1)\n",
    "    y = dataframe['price']\n",
    "    \n",
    "    return X, y\n",
    "\n",
    "X_bl, y_bl = get_X_y(df)\n",
    "X, y = get_X_y(df_no_outliers)"
   ]
  },
  {
   "attachments": {},
   "cell_type": "markdown",
   "metadata": {},
   "source": [
    "Setting up lazy but helpful tools from Scikit-learn"
   ]
  },
  {
   "cell_type": "code",
   "execution_count": 11,
   "metadata": {},
   "outputs": [],
   "source": [
    "# set up preprocessing for numeric cols\n",
    "imp_median = SimpleImputer(strategy='median')\n",
    "scaler = StandardScaler()\n",
    "\n",
    "# set up preprocessing for categorical cols\n",
    "ohe = OneHotEncoder()"
   ]
  },
  {
   "cell_type": "code",
   "execution_count": 12,
   "metadata": {},
   "outputs": [],
   "source": [
    "# select columns by data type\n",
    "num_cols = make_column_selector(dtype_include='number')\n",
    "cat_cols = make_column_selector(dtype_exclude='number')"
   ]
  },
  {
   "cell_type": "code",
   "execution_count": 13,
   "metadata": {},
   "outputs": [],
   "source": [
    "# do all preprocessing\n",
    "preprocessor = make_column_transformer(\n",
    "    (make_pipeline(imp_median, scaler), num_cols),\n",
    "    (make_pipeline(ohe),cat_cols)\n",
    ")"
   ]
  },
  {
   "attachments": {},
   "cell_type": "markdown",
   "metadata": {},
   "source": [
    "### Linear Regression"
   ]
  },
  {
   "cell_type": "code",
   "execution_count": 14,
   "metadata": {},
   "outputs": [],
   "source": [
    "def cross_validation(model, X, y):\n",
    "    '''This function provides scoring for a determined model'''\n",
    "    \n",
    "    # create a pipeline\n",
    "    pipe = make_pipeline(preprocessor, model)\n",
    "    \n",
    "    # use of built-in function cross_val_score from scikit-learn\n",
    "    return cross_val_score(pipe, X, y).mean().round(2)"
   ]
  },
  {
   "cell_type": "code",
   "execution_count": 15,
   "metadata": {},
   "outputs": [
    {
     "name": "stdout",
     "output_type": "stream",
     "text": [
      "Cross-validation score for Baseline data (with outliers): 0.35\n",
      "Cross-validation score (without outliers): 0.51\n"
     ]
    }
   ],
   "source": [
    "# Declare Linear Regression\n",
    "lr = LinearRegression()\n",
    "\n",
    "# cross-validate the pipeline\n",
    "print(f'Cross-validation score for Baseline data (with outliers): {cross_validation(lr, X_bl, y_bl)}')\n",
    "print(f'Cross-validation score (without outliers): {cross_validation(lr, X, y)}')"
   ]
  },
  {
   "attachments": {},
   "cell_type": "markdown",
   "metadata": {},
   "source": [
    "We can see that outliers are bad for our model"
   ]
  },
  {
   "cell_type": "markdown",
   "metadata": {},
   "source": [
    "### Model selection"
   ]
  },
  {
   "cell_type": "code",
   "execution_count": 16,
   "metadata": {},
   "outputs": [],
   "source": [
    "models = [LinearRegression(), DecisionTreeRegressor(random_state=42), RandomForestRegressor(random_state=42), GradientBoostingRegressor(random_state=42)]\n",
    "model_name = [\"Linear Regression\", \"Tree Regressor\", \"RF Regressor\", \"Gradient Boost Regressor\"]"
   ]
  },
  {
   "cell_type": "code",
   "execution_count": 17,
   "metadata": {},
   "outputs": [],
   "source": [
    "def model_selection(X, y):\n",
    "    '''This function returns scores for each model provided'''\n",
    "    for name, model in zip(model_name, models):\n",
    "        \n",
    "        score = cross_validation(model, X, y)\n",
    "        print(\"{} CV Score: {}\".format(name, score))"
   ]
  },
  {
   "cell_type": "code",
   "execution_count": 18,
   "metadata": {},
   "outputs": [
    {
     "name": "stdout",
     "output_type": "stream",
     "text": [
      "Linear Regression CV Score: 0.35\n",
      "Tree Regressor CV Score: -0.04\n",
      "RF Regressor CV Score: 0.41\n",
      "Gradient Boost Regressor CV Score: 0.43\n"
     ]
    }
   ],
   "source": [
    "# Model evaluation for Baseline\n",
    "model_selection(X_bl, y_bl)"
   ]
  },
  {
   "cell_type": "code",
   "execution_count": 19,
   "metadata": {},
   "outputs": [
    {
     "name": "stdout",
     "output_type": "stream",
     "text": [
      "Linear Regression CV Score: 0.51\n",
      "Tree Regressor CV Score: 0.22\n",
      "RF Regressor CV Score: 0.54\n",
      "Gradient Boost Regressor CV Score: 0.58\n"
     ]
    }
   ],
   "source": [
    "# Model evaluation without outliers\n",
    "model_selection(X, y)"
   ]
  },
  {
   "cell_type": "code",
   "execution_count": 20,
   "metadata": {},
   "outputs": [],
   "source": [
    "X_train, X_test, y_train, y_test = train_test_split(X, y , test_size = 0.33, random_state=42)"
   ]
  },
  {
   "cell_type": "code",
   "execution_count": 21,
   "metadata": {},
   "outputs": [
    {
     "name": "stdout",
     "output_type": "stream",
     "text": [
      "0.5909023273001863\n"
     ]
    }
   ],
   "source": [
    "pipe = make_pipeline(preprocessor, GradientBoostingRegressor(random_state=42))\n",
    "pipe.fit(X_train, y_train)\n",
    "y_pred = pipe.predict(X_test)\n",
    "print(pipe.score(X_test, y_test))"
   ]
  },
  {
   "cell_type": "markdown",
   "metadata": {},
   "source": [
    "### Hyperparameter tuning"
   ]
  },
  {
   "cell_type": "code",
   "execution_count": null,
   "metadata": {},
   "outputs": [],
   "source": [
    "# In process..."
   ]
  }
 ],
 "metadata": {
  "kernelspec": {
   "display_name": "Python 3.10.0 ('hands_on_ml')",
   "language": "python",
   "name": "python3"
  },
  "language_info": {
   "codemirror_mode": {
    "name": "ipython",
    "version": 3
   },
   "file_extension": ".py",
   "mimetype": "text/x-python",
   "name": "python",
   "nbconvert_exporter": "python",
   "pygments_lexer": "ipython3",
   "version": "3.8.10"
  },
  "orig_nbformat": 4,
  "vscode": {
   "interpreter": {
    "hash": "bd4d5d5c2674fe4f180e86d22df67199d6c206c54e5bac7ac7ec9c26518a735e"
   }
  }
 },
 "nbformat": 4,
 "nbformat_minor": 2
}
